{
 "cells": [
  {
   "cell_type": "markdown",
   "id": "277751ff",
   "metadata": {},
   "source": [
    "# Data Science Tools and Ecosystem"
   ]
  },
  {
   "cell_type": "markdown",
   "id": "bcdf9a66",
   "metadata": {},
   "source": [
    "In this notebook, Data Science Tools and Ecosystem are summarized."
   ]
  },
  {
   "cell_type": "markdown",
   "id": "a40b1f41",
   "metadata": {},
   "source": [
    "Some of the popular languages that Data Scientists use are:\n",
    "\n",
    "    1. Pyhton\n",
    "    2. R\n",
    "    3. Sql\n",
    "    4. Scala\n",
    "    5. C++ "
   ]
  },
  {
   "cell_type": "markdown",
   "id": "08b340ca",
   "metadata": {},
   "source": [
    "Some of the commonly used libraries used by Data Scientists include:\n",
    "    \n",
    "    1. Pandas\n",
    "    2. NumPy\n",
    "    3. SciPy\n",
    "    4. Tenserflow\n",
    "    5. Keras\n",
    "    6. Mastplotlib\n",
    "    7. Seaborn\n",
    "    8. Pytorch\n",
    "    "
   ]
  },
  {
   "cell_type": "markdown",
   "id": "f61490a9",
   "metadata": {},
   "source": [
    "|Data Science Tools|\n",
    "|---|\n",
    "|Saas|\n",
    "|Apache Hadoop|\n",
    "|Tenserflow|"
   ]
  },
  {
   "cell_type": "markdown",
   "id": "d8d16e56",
   "metadata": {},
   "source": [
    "### Below are a few examples of evaluating arithmetic expressions in Python\n"
   ]
  },
  {
   "cell_type": "markdown",
   "id": "b3a06491",
   "metadata": {},
   "source": [
    "#This a simple arithmetic expression to mutiply then add integers\n",
    "(3*4)+5"
   ]
  },
  {
   "cell_type": "code",
   "execution_count": 3,
   "id": "1b8bac00",
   "metadata": {},
   "outputs": [
    {
     "data": {
      "text/plain": [
       "3.3333333333333335"
      ]
     },
     "execution_count": 3,
     "metadata": {},
     "output_type": "execute_result"
    }
   ],
   "source": [
    "#This will convert 200 minutes to hours by diving by 60\n",
    "200/60"
   ]
  },
  {
   "cell_type": "markdown",
   "id": "1d64a5fd",
   "metadata": {},
   "source": [
    "__Objectives:__\n",
    "\n",
    "    * List Popular Languages for Data Science\n",
    "    * List Popular Diaries for Data Science\n",
    "    * List of Well known Data Science Tools\n",
    "    * How to write in bold "
   ]
  },
  {
   "cell_type": "markdown",
   "id": "dbd1b769",
   "metadata": {},
   "source": [
    "## Author\n",
    "Muhammad Mubbashar"
   ]
  },
  {
   "cell_type": "code",
   "execution_count": null,
   "id": "55121c42",
   "metadata": {},
   "outputs": [],
   "source": []
  },
  {
   "cell_type": "code",
   "execution_count": null,
   "id": "ccbdb06d",
   "metadata": {},
   "outputs": [],
   "source": []
  },
  {
   "cell_type": "code",
   "execution_count": null,
   "id": "7fccb8ef",
   "metadata": {},
   "outputs": [],
   "source": []
  }
 ],
 "metadata": {
  "kernelspec": {
   "display_name": "Python 3 (ipykernel)",
   "language": "python",
   "name": "python3"
  },
  "language_info": {
   "codemirror_mode": {
    "name": "ipython",
    "version": 3
   },
   "file_extension": ".py",
   "mimetype": "text/x-python",
   "name": "python",
   "nbconvert_exporter": "python",
   "pygments_lexer": "ipython3",
   "version": "3.10.9"
  }
 },
 "nbformat": 4,
 "nbformat_minor": 5
}
